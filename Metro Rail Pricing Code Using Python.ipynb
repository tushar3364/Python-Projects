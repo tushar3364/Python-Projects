{
 "cells": [
  {
   "cell_type": "code",
   "execution_count": null,
   "id": "8338224a",
   "metadata": {},
   "outputs": [],
   "source": [
    "try:\n",
    "    distance = float(input(\"Enter distance travelled: \"))\n",
    "    age = float(input(\"Enter age: \"))\n",
    "\n",
    "    if distance >=10 and age >=50:\n",
    "        print((distance*4) + 12)\n",
    "    elif 9.9>= distance >=7 and age>=55:\n",
    "        print((distance*4) + 11)\n",
    "    elif 6.9>= distance >=4 and age>=55:\n",
    "        print((distance*4) + 10)\n",
    "    elif distance <=3.9 and age>=55:\n",
    "        print((distance*4) + 9)    \n",
    "    elif distance >=10 and 54>= age >=40:\n",
    "        print((distance*3) + 12)\n",
    "    elif 9.9>= distance >=7 and 54>= age >=40:\n",
    "        print((distance*3) + 11)\n",
    "    elif 6.9>= distance >=4 and 54>= age >=40:\n",
    "        print((distance*4) + 10)\n",
    "    elif distance <=3.9 and 54>= age >=30:\n",
    "        print((distance*3) + 9)\n",
    "    elif distance >=10 and age <=29:\n",
    "        print((distance*2) + 12)\n",
    "    elif 9.9>= distance >=7 and age <=29:\n",
    "        print((distance*2) + 11)\n",
    "    elif 6.9>= distance >=4 and age<=29:\n",
    "        print((distance*2) + 10)\n",
    "    elif distance <=1.9 and age<=29:\n",
    "        print((distance*2) + 9)\n",
    "    else:\n",
    "        print(\"60 only\")\n",
    "\n",
    "except ValueError:\n",
    "    print(\"Invalid Value\")"
   ]
  },
  {
   "cell_type": "code",
   "execution_count": null,
   "id": "19f9ee34",
   "metadata": {},
   "outputs": [],
   "source": []
  }
 ],
 "metadata": {
  "kernelspec": {
   "display_name": "Python 3",
   "language": "python",
   "name": "python3"
  },
  "language_info": {
   "codemirror_mode": {
    "name": "ipython",
    "version": 3
   },
   "file_extension": ".py",
   "mimetype": "text/x-python",
   "name": "python",
   "nbconvert_exporter": "python",
   "pygments_lexer": "ipython3",
   "version": "3.8.8"
  }
 },
 "nbformat": 4,
 "nbformat_minor": 5
}
